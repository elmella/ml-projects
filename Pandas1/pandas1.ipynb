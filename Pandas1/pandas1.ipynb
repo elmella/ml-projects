{
 "cells": [
  {
   "attachments": {},
   "cell_type": "markdown",
   "metadata": {
    "colab_type": "text",
    "id": "hr6QvWC1sVno"
   },
   "source": [
    "# Pandas 1\n",
    "\n",
    "## Matthew Mella\n",
    "\n",
    "## 403 001\n",
    "\n",
    "## 09/05/23"
   ]
  },
  {
   "cell_type": "code",
   "execution_count": 1,
   "metadata": {
    "colab": {},
    "colab_type": "code",
    "id": "D1pxi6sWEcmJ"
   },
   "outputs": [],
   "source": [
    "import numpy as np\n",
    "import pandas as pd"
   ]
  },
  {
   "attachments": {},
   "cell_type": "markdown",
   "metadata": {
    "colab_type": "text",
    "id": "Y8nzrZCaE4bn"
   },
   "source": [
    "# Problem 1"
   ]
  },
  {
   "cell_type": "code",
   "execution_count": 42,
   "metadata": {},
   "outputs": [
    {
     "data": {
      "text/plain": [
       "array([[  0.,   0.,   0.,   0.,   0.,   0.,   0.],\n",
       "       [  0.,   0.,   0.,   0.,   0.,   0.,   0.],\n",
       "       [  0.,   0.,   0.,   0.,   0.,   0.,   0.],\n",
       "       [  0.,   0.,   0.,   0.,   0.,   0.,   0.],\n",
       "       [  0.,   0.,   0.,   0.,   0.,   0.,   0.],\n",
       "       [174., 800.,  90.,  37.,  30.,  23.,   8.],\n",
       "       [174., 800.,  82.,  35.,  nan,  26.,  nan],\n",
       "       [172., 800.,  82.,  31.,  30.,  26.,   8.],\n",
       "       [171., 800.,  82.,  40.,  nan,  23.,  nan],\n",
       "       [171., 800.,  82.,  35.,  nan,  27.,  nan],\n",
       "       [171., 800.,  80.,  30.,  31.,  22.,  nan],\n",
       "       [170., 800.,  90.,  34.,  33.,  nan,   8.],\n",
       "       [170., 800.,  85.,  34.,  nan,  25.,  nan],\n",
       "       [167., 800.,  92.,  30.,  nan,  29.,  nan],\n",
       "       [163., 800.,  85.,  30.,  nan,  nan,  nan],\n",
       "       [163., 800.,  90.,  31.,  nan,  25.,  nan],\n",
       "       [161., 800.,  85.,  30.,  nan,  24.,  nan],\n",
       "       [160., 800.,  91.,  32.,  28.,  23.,  nan],\n",
       "       [158., 800.,  92.,  nan,  nan,  22.,  nan],\n",
       "       [157., 800.,  82.,  nan,  32.,  21.,   8.],\n",
       "       [155., 800.,  80.,  nan,  33.,  26.,   8.],\n",
       "       [155., 800.,  92.,  33.,  nan,  nan,  nan],\n",
       "       [153., 800.,  80.,  31.,  30.,  27.,   8.],\n",
       "       [152., 800.,  95.,  30.,  46.,  nan,   8.],\n",
       "       [152., 800.,  85.,  39.,  nan,  29.,  nan],\n",
       "       [152., 800.,  95.,  32.,  34.,  22.,   8.],\n",
       "       [150., 800.,  90.,  34.,  nan,  25.,  nan],\n",
       "       [148., 800.,  91.,  40.,  31.,  nan,  nan],\n",
       "       [148., 800.,  91.,  34.,  28.,  27.,  nan],\n",
       "       [146., 800.,  95.,  31.,  32.,  23.,   8.],\n",
       "       [145., 800.,  91.,  30.,  29.,  28.,  nan],\n",
       "       [145., 800.,  82.,  40.,  nan,  27.,  nan],\n",
       "       [145., 800.,  90.,  32.,  nan,  29.,  nan],\n",
       "       [143., 800.,  95.,  38.,  34.,  21.,   8.],\n",
       "       [141., 800.,  82.,  37.,  nan,  27.,  nan],\n",
       "       [140., 800.,  82.,  31.,  30.,  24.,   8.],\n",
       "       [140., 800.,  92.,  34.,  nan,  24.,  nan],\n",
       "       [137., 800.,  82.,  nan,  31.,  28.,   8.],\n",
       "       [137., 800.,  82.,  36.,  nan,  20.,  nan],\n",
       "       [137., 800.,  95.,  36.,  34.,  23.,   8.],\n",
       "       [136., 800.,  92.,  36.,  nan,  22.,  nan],\n",
       "       [135., 800.,  90.,  34.,  32.,  22.,   8.],\n",
       "       [134., 800.,  82.,  39.,  35.,  24.,   8.],\n",
       "       [133., 800.,  91.,  36.,  nan,  23.,  nan],\n",
       "       [131., 800.,  85.,  38.,  nan,  23.,  nan],\n",
       "       [131., 800.,  80.,  31.,  29.,  nan,  nan],\n",
       "       [130., 800.,  85.,  31.,  nan,  22.,  nan],\n",
       "       [130., 800.,  91.,  34.,  nan,  21.,  nan]])"
      ]
     },
     "execution_count": 42,
     "metadata": {},
     "output_type": "execute_result"
    }
   ],
   "source": [
    "# Prob 1\n",
    "def prob1(file='budget.csv'):\n",
    "    \"\"\"\"\n",
    "    Read in budget.csv as a DataFrame with the index as column 0 and perform each of these operations on the DataFrame in order. \n",
    "    \n",
    "    1) Reindex the columns such that amount spent on groceries is the first column and all other columns maintain the same ordering.\n",
    "    2) Sort the DataFrame in descending order based on how much money was spent on Groceries.\n",
    "    3) Reset all values in the 'Rent' column to 800.0.\n",
    "    4) Reset all values in the first 5 data points to 0.0\n",
    "    \n",
    "    Return the values of the updated DataFrame as a NumPy array.\n",
    "    \n",
    "    Parameters:\n",
    "        file (str): name of datafile\n",
    "        \n",
    "    Return:\n",
    "        values (ndarray): values of DataFrame\n",
    "    \"\"\"\n",
    "    # read in the code\n",
    "    budget_df = pd.read_csv(file, index_col=0)\n",
    "\n",
    "    # reindex and sort\n",
    "    budget_df = budget_df.reindex(columns=['Groceries','Rent','Utilities','Dining Out','Gas','Out With Friends','Netflix'])\n",
    "    budget_df = budget_df.sort_values('Groceries', ascending=False)\n",
    "\n",
    "    # reset column and row values\n",
    "    budget_df['Rent'] = 800.0\n",
    "    budget_df.iloc[range(5),range(len(budget_df.columns))] = 0.0\n",
    "\n",
    "    # display(budget_df)\n",
    "    \n",
    "    return budget_df.to_numpy()\n",
    "\n",
    "prob1()\n"
   ]
  },
  {
   "attachments": {},
   "cell_type": "markdown",
   "metadata": {
    "colab_type": "text",
    "id": "FcGE9Qq5scpv"
   },
   "source": [
    "# Problem 2"
   ]
  },
  {
   "cell_type": "code",
   "execution_count": 41,
   "metadata": {
    "colab": {},
    "colab_type": "code",
    "id": "bZIdjL74RuuO"
   },
   "outputs": [
    {
     "data": {
      "text/plain": [
       "('Rent', 'Dining Out')"
      ]
     },
     "execution_count": 41,
     "metadata": {},
     "output_type": "execute_result"
    }
   ],
   "source": [
    "# Prob 2\n",
    "def prob2(file='budget.csv'):\n",
    "    \"\"\"\n",
    "    Read in file as DataFrame.\n",
    "    Fill all NaN values with 0.0.\n",
    "    Create two new columns, 'Living Expenses' and 'Other'. \n",
    "    Sum the columns 'Rent', 'Groceries', 'Gas' and 'Utilities' and set it as the value of 'Living Expenses'.\n",
    "    Sum the columns 'Dining Out', 'Out With Friends' and 'Netflix' and set as the value of 'Other'.\n",
    "    Identify which column, other than 'Living Expenses' correlates most with 'Living Expenses'\n",
    "    and which column other than 'Other' correlates most with 'Other'.\n",
    "\n",
    "    Return the names of each of those columns as a tuple.\n",
    "    The first should be of the column corresponding to \\li{'Living Expenses'} and the second to \\li{'Other'}.\n",
    "    \n",
    "    Parameters:\n",
    "        file (str): name of datafile\n",
    "        \n",
    "    Return:\n",
    "        values (tuple): (name of column that most relates to Living Expenses, name of column that most relates to Other)\n",
    "    \"\"\"\n",
    "    # read in the code\n",
    "    budget_df = pd.read_csv(file, index_col=0)\n",
    "    budget_df.fillna(0.0, inplace=True)\n",
    "\n",
    "    # create new columns\n",
    "    budget_df['Living Expenses'] = budget_df[['Rent','Groceries','Gas','Utilities']].sum(axis=1)\n",
    "    budget_df['Other'] = budget_df[['Dining Out','Out With Friends','Netflix']].sum(axis=1)\n",
    "\n",
    "    # create correlation df\n",
    "    corr_df = budget_df.corr()\n",
    "\n",
    "    # Get the series of the correlations sorted, with the value of 1.0 removed\n",
    "    liv_rank = corr_df['Living Expenses'].sort_values(ascending=False)[1:]\n",
    "    other_rank = corr_df['Other'].sort_values(ascending=False)[1:]\n",
    "\n",
    "    # return the index of the new first entry\n",
    "    return liv_rank.index[0], other_rank.index[0]\n",
    "\n",
    "prob2()\n"
   ]
  },
  {
   "attachments": {},
   "cell_type": "markdown",
   "metadata": {
    "colab_type": "text",
    "id": "qVHAwFRRseXh"
   },
   "source": [
    "# Problem 3"
   ]
  },
  {
   "cell_type": "code",
   "execution_count": 40,
   "metadata": {
    "colab": {},
    "colab_type": "code",
    "id": "35VAshdqZhVD"
   },
   "outputs": [
    {
     "data": {
      "text/plain": [
       "('Property',\n",
       " array([2000, 2001, 2002, 2003, 2005, 2007, 2006]),\n",
       " 0.8997188308734142)"
      ]
     },
     "execution_count": 40,
     "metadata": {},
     "output_type": "execute_result"
    }
   ],
   "source": [
    "def prob3(file='crime_data.csv'):\n",
    "    \"\"\"\n",
    "    Read in crime data and use pandas to answer the following questions.\n",
    "    \n",
    "    Set the index as the column 'Year', and return the answers to each question as a tuple.\n",
    "    \n",
    "    1) Identify the three crimes that have a mean over 1,500,000. \n",
    "    Of these three crimes, which two are very correlated? \n",
    "    Which of these two crimes has a greater maximum value?\n",
    "    Save the title of this column as a variable to return as the answer.\n",
    "    \n",
    "    2) Examine the data since 2000.\n",
    "    Sort this data (in ascending order) according to number of murders.\n",
    "    Find the years where Aggravated Assault is greater than 850,000.\n",
    "    Save the indices (the years) of the masked and reordered DataFrame as a NumPy array to return as the answer.\n",
    "    \n",
    "    3) What year had the highest crime rate? \n",
    "    In this year, which crime was committed the most? \n",
    "    What percentage of the total crime that year was it? \n",
    "    Save this value as a float.\n",
    "    \n",
    "    \n",
    "    Parameters:\n",
    "        file (str): data\n",
    "    \n",
    "    Return:\n",
    "        ans_1 (string): answer to Question 1\n",
    "        ans_2 (ndarray): answer to Question 2\n",
    "        ans_3 (float): answer to Question 3\n",
    "    \"\"\"\n",
    "\n",
    "    # Part 1\n",
    "\n",
    "    # load the DataFrame and save the index\n",
    "    crime_df = pd.read_csv(file)\n",
    "    crime_df.set_index('Year', inplace=True)\n",
    "\n",
    "    # create the mask based on the mean\n",
    "    mean_df = crime_df.mean()\n",
    "    mean_mask = mean_df > 1500000\n",
    "\n",
    "    # save the columns of crimes that come from the mask\n",
    "    crime_cols = crime_df[mean_df[mean_mask][2:].index]\n",
    "\n",
    "    # save the correlation for the columns\n",
    "    corr_df = crime_cols.corr()\n",
    "\n",
    "    # mask the df to remove the trivial correlations\n",
    "    corr_mask = corr_df < 1\n",
    "    df_masked = corr_df[corr_mask]\n",
    "    \n",
    "    # gather the name of the correlated columns\n",
    "    corr_cols = df_masked.stack().idxmax()\n",
    "\n",
    "    # save the max of the two crimes\n",
    "    max_df = crime_df[list(corr_cols)].max()\n",
    "    \n",
    "    # save the name of the maximum crime\n",
    "    ans_1 = max_df.idxmax()\n",
    "\n",
    "    # Part 2\n",
    "\n",
    "    # sort the crime df for the 2000s\n",
    "    crime_df_2000s = crime_df.loc[2000:]\n",
    "\n",
    "    # sort based on ascending murder rate\n",
    "    crime_df_2000s = crime_df_2000s.sort_values('Murder', ascending=True)\n",
    "    \n",
    "    # create the mask based on aggravated assault\n",
    "    agg_assault_mask = crime_df_2000s['Aggravated Assault'] > 850000\n",
    "    \n",
    "    ans_2 = crime_df_2000s[agg_assault_mask].index.to_numpy()\n",
    "\n",
    "    # Part 3\n",
    "\n",
    "    # find the crime rate as a ratio\n",
    "    max_crime_year = (crime_df['Total'] / crime_df['Population']).idxmax()\n",
    "\n",
    "    max_year_series = crime_df.loc[max_crime_year]\n",
    "\n",
    "    max_crime = max_year_series[2:].idxmax()\n",
    "\n",
    "    ans_3 = max_year_series[max_crime] / max_year_series['Total']\n",
    "\n",
    "    return ans_1,ans_2,ans_3\n",
    "\n",
    "\n",
    "prob3()\n"
   ]
  },
  {
   "attachments": {},
   "cell_type": "markdown",
   "metadata": {
    "colab_type": "text",
    "id": "4pfN6PbxsgC3"
   },
   "source": [
    "# Problem 4"
   ]
  },
  {
   "cell_type": "code",
   "execution_count": 37,
   "metadata": {
    "colab": {},
    "colab_type": "code",
    "id": "TAavKLA17LsN"
   },
   "outputs": [
    {
     "data": {
      "text/html": [
       "<div>\n",
       "<style scoped>\n",
       "    .dataframe tbody tr th:only-of-type {\n",
       "        vertical-align: middle;\n",
       "    }\n",
       "\n",
       "    .dataframe tbody tr th {\n",
       "        vertical-align: top;\n",
       "    }\n",
       "\n",
       "    .dataframe thead th {\n",
       "        text-align: right;\n",
       "    }\n",
       "</style>\n",
       "<table border=\"1\" class=\"dataframe\">\n",
       "  <thead>\n",
       "    <tr style=\"text-align: right;\">\n",
       "      <th></th>\n",
       "      <th>VALUE</th>\n",
       "    </tr>\n",
       "    <tr>\n",
       "      <th>DATE</th>\n",
       "      <th></th>\n",
       "    </tr>\n",
       "  </thead>\n",
       "  <tbody>\n",
       "    <tr>\n",
       "      <th>2006-09-27</th>\n",
       "      <td>11689.24</td>\n",
       "    </tr>\n",
       "    <tr>\n",
       "      <th>2006-09-28</th>\n",
       "      <td>11718.45</td>\n",
       "    </tr>\n",
       "    <tr>\n",
       "      <th>2006-09-29</th>\n",
       "      <td>11679.07</td>\n",
       "    </tr>\n",
       "    <tr>\n",
       "      <th>2006-10-02</th>\n",
       "      <td>11670.35</td>\n",
       "    </tr>\n",
       "    <tr>\n",
       "      <th>2006-10-03</th>\n",
       "      <td>11727.34</td>\n",
       "    </tr>\n",
       "    <tr>\n",
       "      <th>...</th>\n",
       "      <td>...</td>\n",
       "    </tr>\n",
       "    <tr>\n",
       "      <th>2016-09-20</th>\n",
       "      <td>18129.96</td>\n",
       "    </tr>\n",
       "    <tr>\n",
       "      <th>2016-09-21</th>\n",
       "      <td>18293.70</td>\n",
       "    </tr>\n",
       "    <tr>\n",
       "      <th>2016-09-22</th>\n",
       "      <td>18392.46</td>\n",
       "    </tr>\n",
       "    <tr>\n",
       "      <th>2016-09-23</th>\n",
       "      <td>18261.45</td>\n",
       "    </tr>\n",
       "    <tr>\n",
       "      <th>2016-09-26</th>\n",
       "      <td>18094.83</td>\n",
       "    </tr>\n",
       "  </tbody>\n",
       "</table>\n",
       "<p>2517 rows × 1 columns</p>\n",
       "</div>"
      ],
      "text/plain": [
       "               VALUE\n",
       "DATE                \n",
       "2006-09-27  11689.24\n",
       "2006-09-28  11718.45\n",
       "2006-09-29  11679.07\n",
       "2006-10-02  11670.35\n",
       "2006-10-03  11727.34\n",
       "...              ...\n",
       "2016-09-20  18129.96\n",
       "2016-09-21  18293.70\n",
       "2016-09-22  18392.46\n",
       "2016-09-23  18261.45\n",
       "2016-09-26  18094.83\n",
       "\n",
       "[2517 rows x 1 columns]"
      ]
     },
     "execution_count": 37,
     "metadata": {},
     "output_type": "execute_result"
    }
   ],
   "source": [
    "def prob4(file='DJIA.csv'):\n",
    "    \"\"\"\n",
    "\n",
    "    Read the data with a DatetimeIndex as the index.\n",
    "    Drop rows any rows without numerical values, cast the \"VALUE\" column to floats, then return the updated DataFrame.\n",
    "\n",
    "    Parameters:\n",
    "        file (str): data file\n",
    "    Returns:\n",
    "        df (DataFrame): updated DataFrame of stock market data\n",
    "    \"\"\"\n",
    "\n",
    "    # read in the .csv file\n",
    "    df = pd.read_csv('DJIA.csv')\n",
    "\n",
    "    # create the date index\n",
    "    date_index = pd.to_datetime(df[\"DATE\"])\n",
    "\n",
    "    # convert the value of the col in to floats, labeling errors as NaN\n",
    "    value_col = pd.to_numeric(df[\"VALUE\"], errors='coerce').astype(float)\n",
    "\n",
    "    # create a dataframe with the type-casted columns and the date index\n",
    "    DJIA = pd.DataFrame({\"VALUE\" : value_col.to_list()}, index=date_index)\n",
    "\n",
    "    return DJIA.dropna()\n",
    "\n",
    "prob4()"
   ]
  },
  {
   "attachments": {},
   "cell_type": "markdown",
   "metadata": {
    "colab_type": "text",
    "id": "I663KesNsjMK"
   },
   "source": [
    "# Problem 5"
   ]
  },
  {
   "cell_type": "code",
   "execution_count": 38,
   "metadata": {},
   "outputs": [
    {
     "data": {
      "text/html": [
       "<div>\n",
       "<style scoped>\n",
       "    .dataframe tbody tr th:only-of-type {\n",
       "        vertical-align: middle;\n",
       "    }\n",
       "\n",
       "    .dataframe tbody tr th {\n",
       "        vertical-align: top;\n",
       "    }\n",
       "\n",
       "    .dataframe thead th {\n",
       "        text-align: right;\n",
       "    }\n",
       "</style>\n",
       "<table border=\"1\" class=\"dataframe\">\n",
       "  <thead>\n",
       "    <tr style=\"text-align: right;\">\n",
       "      <th></th>\n",
       "      <th>VALUE</th>\n",
       "    </tr>\n",
       "    <tr>\n",
       "      <th>DATE</th>\n",
       "      <th></th>\n",
       "    </tr>\n",
       "  </thead>\n",
       "  <tbody>\n",
       "    <tr>\n",
       "      <th>2008-03-14</th>\n",
       "      <td>1122.26</td>\n",
       "    </tr>\n",
       "    <tr>\n",
       "      <th>2008-03-28</th>\n",
       "      <td>921.03</td>\n",
       "    </tr>\n",
       "    <tr>\n",
       "      <th>2008-04-11</th>\n",
       "      <td>962.46</td>\n",
       "    </tr>\n",
       "    <tr>\n",
       "      <th>2008-04-25</th>\n",
       "      <td>1035.97</td>\n",
       "    </tr>\n",
       "    <tr>\n",
       "      <th>2008-05-09</th>\n",
       "      <td>1078.59</td>\n",
       "    </tr>\n",
       "    <tr>\n",
       "      <th>...</th>\n",
       "      <td>...</td>\n",
       "    </tr>\n",
       "    <tr>\n",
       "      <th>2011-07-29</th>\n",
       "      <td>1095.53</td>\n",
       "    </tr>\n",
       "    <tr>\n",
       "      <th>2011-08-12</th>\n",
       "      <td>1018.39</td>\n",
       "    </tr>\n",
       "    <tr>\n",
       "      <th>2011-08-26</th>\n",
       "      <td>1027.08</td>\n",
       "    </tr>\n",
       "    <tr>\n",
       "      <th>2011-09-09</th>\n",
       "      <td>1005.90</td>\n",
       "    </tr>\n",
       "    <tr>\n",
       "      <th>2011-09-23</th>\n",
       "      <td>963.29</td>\n",
       "    </tr>\n",
       "  </tbody>\n",
       "</table>\n",
       "<p>93 rows × 1 columns</p>\n",
       "</div>"
      ],
      "text/plain": [
       "              VALUE\n",
       "DATE               \n",
       "2008-03-14  1122.26\n",
       "2008-03-28   921.03\n",
       "2008-04-11   962.46\n",
       "2008-04-25  1035.97\n",
       "2008-05-09  1078.59\n",
       "...             ...\n",
       "2011-07-29  1095.53\n",
       "2011-08-12  1018.39\n",
       "2011-08-26  1027.08\n",
       "2011-09-09  1005.90\n",
       "2011-09-23   963.29\n",
       "\n",
       "[93 rows x 1 columns]"
      ]
     },
     "execution_count": 38,
     "metadata": {},
     "output_type": "execute_result"
    }
   ],
   "source": [
    "def prob5(file='paychecks.csv'):\n",
    "    \"\"\"\n",
    "\n",
    "    Create data_range for index of paycheck data.\n",
    "\n",
    "    Parameters:\n",
    "        file (str): data file\n",
    "    Returns:\n",
    "        df (DataFrame): DataFrame of paycheck data\n",
    "    \"\"\"\n",
    "    # Create the DateTimeIndex, starting with the first paycheck over the next 93 checks.\n",
    "    time_index = pd.date_range(start=\"2008-03-14\", periods=93, freq='2W-FRI')\n",
    "\n",
    "    # load the df, set the index, and name the columns\n",
    "    df = pd.read_csv('paychecks.csv', header=None)\n",
    "    df.set_index(time_index, inplace=True)\n",
    "    df.index.name = \"DATE\"\n",
    "    df.rename(columns={0: 'VALUE'}, inplace=True)\n",
    "    \n",
    "    return df\n",
    "\n",
    "prob5()"
   ]
  },
  {
   "attachments": {},
   "cell_type": "markdown",
   "metadata": {
    "colab_type": "text",
    "id": "I663KesNsjMK"
   },
   "source": [
    "# Problem 6"
   ]
  },
  {
   "cell_type": "code",
   "execution_count": 39,
   "metadata": {
    "colab": {},
    "colab_type": "code",
    "id": "KGxh0mpSDLDD"
   },
   "outputs": [
    {
     "data": {
      "text/plain": [
       "(Timestamp('2008-10-13 00:00:00'), Timestamp('2008-09-29 00:00:00'))"
      ]
     },
     "execution_count": 39,
     "metadata": {},
     "output_type": "execute_result"
    }
   ],
   "source": [
    "def prob6(file='DJIA.csv'):\n",
    "    \"\"\"\n",
    "    Compute the following information about the DJIA dataset\n",
    "    1. The single day with the largest gain\n",
    "    2. The single day with the largest loss\n",
    "\n",
    "    Parameters:\n",
    "        file (str): data file\n",
    "    Returns:\n",
    "        max_day (<M8[ns]): DateTimeIndex of maximum change\n",
    "        min_day (<M8[ns]): DateTimeIndex of minimum change\n",
    "    \"\"\"\n",
    "    # Load the df from problem 4\n",
    "    df = prob4()\n",
    "\n",
    "    # create a dataframe of the difference\n",
    "    df_change = df.diff()\n",
    "\n",
    "    # create a series, used to use argmax and argmin values\n",
    "    change_series = df_change[\"VALUE\"]\n",
    "    max_index = change_series.argmax()\n",
    "    min_index = change_series.argmin()\n",
    "\n",
    "    # return a tuple with the date of the max_index and min_index\n",
    "    return(df_change.iloc[max_index].name, df_change.iloc[min_index].name)\n",
    "\n",
    "prob6()"
   ]
  }
 ],
 "metadata": {
  "colab": {
   "collapsed_sections": [],
   "name": "pandas1.ipynb",
   "provenance": [],
   "version": "0.3.2"
  },
  "kernelspec": {
   "display_name": "Python 3",
   "language": "python",
   "name": "python3"
  },
  "language_info": {
   "codemirror_mode": {
    "name": "ipython",
    "version": 3
   },
   "file_extension": ".py",
   "mimetype": "text/x-python",
   "name": "python",
   "nbconvert_exporter": "python",
   "pygments_lexer": "ipython3",
   "version": "3.9.12"
  }
 },
 "nbformat": 4,
 "nbformat_minor": 1
}
