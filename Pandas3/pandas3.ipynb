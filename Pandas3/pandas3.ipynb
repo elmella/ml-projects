{
 "cells": [
  {
   "attachments": {},
   "cell_type": "markdown",
   "metadata": {
    "colab_type": "text",
    "id": "bW431NWpWQvg"
   },
   "source": [
    "# Pandas 3\n",
    "### Matthew Mella\n",
    "### 09/29/23"
   ]
  },
  {
   "cell_type": "code",
   "execution_count": 2,
   "metadata": {
    "colab": {},
    "colab_type": "code",
    "id": "SUIQR8wua0n-"
   },
   "outputs": [],
   "source": [
    "import pandas as pd\n",
    "import numpy as np\n",
    "import matplotlib.pyplot as plt"
   ]
  },
  {
   "attachments": {},
   "cell_type": "markdown",
   "metadata": {
    "colab_type": "text",
    "id": "WtvM7fKitmn0"
   },
   "source": [
    "# Problem 1"
   ]
  },
  {
   "cell_type": "code",
   "execution_count": 32,
   "metadata": {
    "colab": {},
    "colab_type": "code",
    "id": "UnY5vviOBe8s"
   },
   "outputs": [
    {
     "data": {
      "text/plain": [
       "(array([212.        ,  17.13915094,   3.41804873,   6.7       ,\n",
       "         15.1       ,  17.25      ,  19.325     ,  28.8       ]),\n",
       " array([565.        ,  29.33097345,  17.85139147,   1.        ,\n",
       "         17.        ,  25.        ,  36.        ,  96.        ]),\n",
       " array([565.        ,  56.95752212,  19.58836048,   9.        ,\n",
       "         42.        ,  55.        ,  70.        , 100.        ]))"
      ]
     },
     "execution_count": 32,
     "metadata": {},
     "output_type": "execute_result"
    }
   ],
   "source": [
    "def prob1():\n",
    "    \"\"\"\n",
    "    Use a groupby object to determine information about private\n",
    "    and public universities.\n",
    "    Specifically examine the columns 'S.F.Ratio', 'Top10perc',\n",
    "    and 'Top25perc'.\n",
    "    \n",
    "    Return:\n",
    "        ans_1 (ndarray): describe array of universities with \n",
    "                         higher S.F.Ratio\n",
    "        ans_2 (ndarray): describe array of universities with\n",
    "                         more students from Top10perc\n",
    "        ans_3 (ndarray): describe array of universities with\n",
    "                         more students from Top25perc\n",
    "    \"\"\"\n",
    "    # read in the data\n",
    "    df = pd.read_csv('college.csv')\n",
    "\n",
    "    public_or_private = df.groupby(\"Private\")\n",
    "\n",
    "    # create describe dataframes\n",
    "    ratio_describe = public_or_private[\"S.F.Ratio\"].describe()\n",
    "    \n",
    "    top_ten_describe = public_or_private[\"Top10perc\"].describe()\n",
    "\n",
    "    top_25_describe = public_or_private[\"Top25perc\"].describe()\n",
    "\n",
    "    # get the idxmax from each dataframe\n",
    "    ratio_idx = ratio_describe[\"mean\"].idxmax()\n",
    "    top_ten_idx = top_ten_describe[\"mean\"].idxmax()\n",
    "    top_25_idx = top_25_describe[\"mean\"].idxmax()\n",
    "    \n",
    "    # return the max row as numpy\n",
    "    return ratio_describe.loc[ratio_idx].to_numpy(), top_ten_describe.loc[top_ten_idx].to_numpy(), top_25_describe.loc[top_25_idx].to_numpy()\n",
    "\n",
    "\n",
    "prob1()"
   ]
  },
  {
   "attachments": {},
   "cell_type": "markdown",
   "metadata": {
    "colab_type": "text",
    "id": "kkl-OwD3tosX"
   },
   "source": [
    "# Problem 2"
   ]
  },
  {
   "cell_type": "code",
   "execution_count": 31,
   "metadata": {
    "colab": {},
    "colab_type": "code",
    "id": "21bBA9dzCNxc"
   },
   "outputs": [
    {
     "data": {
      "image/png": "[encoded data removed]",
      "text/plain": [
       "<Figure size 432x288 with 1 Axes>"
      ]
     },
     "metadata": {
      "needs_background": "light"
     },
     "output_type": "display_data"
    },
    {
     "data": {
      "image/png": "[encoded data removed]",
      "text/plain": [
       "<Figure size 432x288 with 1 Axes>"
      ]
     },
     "metadata": {
      "needs_background": "light"
     },
     "output_type": "display_data"
    }
   ],
   "source": [
    "def prob2():\n",
    "    \"\"\"\n",
    "    Use groupby visualizations to compare the following\n",
    "    in private and public universities:\n",
    "        1. Number of applicants, accept applicants, and\n",
    "           enrolled applicants\n",
    "        2. Range of price for room and board\n",
    "    \"\"\"\n",
    "    # read in the data\n",
    "    df = pd.read_csv('college.csv')\n",
    "\n",
    "    # create GroupBy object\n",
    "    public_or_private = df.groupby(\"Private\")\n",
    "\n",
    "    # create visualization\n",
    "    public_or_private[[\"Apps\",\"Accept\",\"Enroll\"]].mean().plot(kind='barh', title=\"Private vs Public Schools on Admissions\")\n",
    "\n",
    "    plt.xlabel(\"Number of Students\")\n",
    "\n",
    "    plt.show()\n",
    "\n",
    "    df.boxplot(column=\"Room.Board\", by=\"Private\", grid=False)\n",
    "    plt.ylabel(\"Price\")\n",
    "\n",
    "\n",
    "    plt.tight_layout()\n",
    "    plt.show()\n",
    "\n",
    "\n",
    "prob2()"
   ]
  },
  {
   "attachments": {},
   "cell_type": "markdown",
   "metadata": {
    "colab_type": "text",
    "id": "XQJj5O7btqQW"
   },
   "source": [
    "# Problem 3"
   ]
  },
  {
   "cell_type": "code",
   "execution_count": 25,
   "metadata": {
    "colab": {},
    "colab_type": "code",
    "id": "Qs3BS0NKRgo1"
   },
   "outputs": [
    {
     "data": {
      "text/html": [
       "<div>\n",
       "<style scoped>\n",
       "    .dataframe tbody tr th:only-of-type {\n",
       "        vertical-align: middle;\n",
       "    }\n",
       "\n",
       "    .dataframe tbody tr th {\n",
       "        vertical-align: top;\n",
       "    }\n",
       "\n",
       "    .dataframe thead th {\n",
       "        text-align: right;\n",
       "    }\n",
       "</style>\n",
       "<table border=\"1\" class=\"dataframe\">\n",
       "  <thead>\n",
       "    <tr style=\"text-align: right;\">\n",
       "      <th>Race</th>\n",
       "      <th>1</th>\n",
       "      <th>2</th>\n",
       "      <th>3</th>\n",
       "      <th>4</th>\n",
       "    </tr>\n",
       "    <tr>\n",
       "      <th>Sex</th>\n",
       "      <th></th>\n",
       "      <th></th>\n",
       "      <th></th>\n",
       "      <th></th>\n",
       "    </tr>\n",
       "  </thead>\n",
       "  <tbody>\n",
       "    <tr>\n",
       "      <th>1</th>\n",
       "      <td>145789</td>\n",
       "      <td>10768</td>\n",
       "      <td>0</td>\n",
       "      <td>5103</td>\n",
       "    </tr>\n",
       "    <tr>\n",
       "      <th>2</th>\n",
       "      <td>85867</td>\n",
       "      <td>6004</td>\n",
       "      <td>0</td>\n",
       "      <td>2553</td>\n",
       "    </tr>\n",
       "  </tbody>\n",
       "</table>\n",
       "</div>"
      ],
      "text/plain": [
       "Race       1      2  3     4\n",
       "Sex                         \n",
       "1     145789  10768  0  5103\n",
       "2      85867   6004  0  2553"
      ]
     },
     "metadata": {},
     "output_type": "display_data"
    },
    {
     "data": {
      "text/html": [
       "<div>\n",
       "<style scoped>\n",
       "    .dataframe tbody tr th:only-of-type {\n",
       "        vertical-align: middle;\n",
       "    }\n",
       "\n",
       "    .dataframe tbody tr th {\n",
       "        vertical-align: top;\n",
       "    }\n",
       "\n",
       "    .dataframe thead th {\n",
       "        text-align: right;\n",
       "    }\n",
       "</style>\n",
       "<table border=\"1\" class=\"dataframe\">\n",
       "  <thead>\n",
       "    <tr style=\"text-align: right;\">\n",
       "      <th>Race</th>\n",
       "      <th>1</th>\n",
       "      <th>2</th>\n",
       "      <th>3</th>\n",
       "      <th>4</th>\n",
       "    </tr>\n",
       "    <tr>\n",
       "      <th>Sex</th>\n",
       "      <th></th>\n",
       "      <th></th>\n",
       "      <th></th>\n",
       "      <th></th>\n",
       "    </tr>\n",
       "  </thead>\n",
       "  <tbody>\n",
       "    <tr>\n",
       "      <th>1</th>\n",
       "      <td>36939</td>\n",
       "      <td>2382</td>\n",
       "      <td>146</td>\n",
       "      <td>580</td>\n",
       "    </tr>\n",
       "    <tr>\n",
       "      <th>2</th>\n",
       "      <td>23335</td>\n",
       "      <td>2584</td>\n",
       "      <td>40</td>\n",
       "      <td>365</td>\n",
       "    </tr>\n",
       "  </tbody>\n",
       "</table>\n",
       "</div>"
      ],
      "text/plain": [
       "Race      1     2    3    4\n",
       "Sex                        \n",
       "1     36939  2382  146  580\n",
       "2     23335  2584   40  365"
      ]
     },
     "metadata": {},
     "output_type": "display_data"
    },
    {
     "data": {
      "text/html": [
       "<div>\n",
       "<style scoped>\n",
       "    .dataframe tbody tr th:only-of-type {\n",
       "        vertical-align: middle;\n",
       "    }\n",
       "\n",
       "    .dataframe tbody tr th {\n",
       "        vertical-align: top;\n",
       "    }\n",
       "\n",
       "    .dataframe thead th {\n",
       "        text-align: right;\n",
       "    }\n",
       "</style>\n",
       "<table border=\"1\" class=\"dataframe\">\n",
       "  <thead>\n",
       "    <tr style=\"text-align: right;\">\n",
       "      <th>Race</th>\n",
       "      <th>1</th>\n",
       "      <th>2</th>\n",
       "      <th>3</th>\n",
       "      <th>4</th>\n",
       "    </tr>\n",
       "    <tr>\n",
       "      <th>Sex</th>\n",
       "      <th></th>\n",
       "      <th></th>\n",
       "      <th></th>\n",
       "      <th></th>\n",
       "    </tr>\n",
       "  </thead>\n",
       "  <tbody>\n",
       "    <tr>\n",
       "      <th>1</th>\n",
       "      <td>43.254098</td>\n",
       "      <td>40.372881</td>\n",
       "      <td>48.666667</td>\n",
       "      <td>38.666667</td>\n",
       "    </tr>\n",
       "    <tr>\n",
       "      <th>2</th>\n",
       "      <td>40.512153</td>\n",
       "      <td>38.000000</td>\n",
       "      <td>40.000000</td>\n",
       "      <td>40.555556</td>\n",
       "    </tr>\n",
       "  </tbody>\n",
       "</table>\n",
       "</div>"
      ],
      "text/plain": [
       "Race          1          2          3          4\n",
       "Sex                                             \n",
       "1     43.254098  40.372881  48.666667  38.666667\n",
       "2     40.512153  38.000000  40.000000  40.555556"
      ]
     },
     "metadata": {},
     "output_type": "display_data"
    },
    {
     "data": {
      "text/plain": [
       "((1, 1), (3, 2), (3, 1))"
      ]
     },
     "execution_count": 25,
     "metadata": {},
     "output_type": "execute_result"
    }
   ],
   "source": [
    "def prob3():\n",
    "    \"\"\"\n",
    "    Use Ohio_1999.csv and pivot tables to answer the\n",
    "    following questions\n",
    "        1. Which race/sex combination has the highest Usual Weekly \n",
    "            Earnings in total?\n",
    "        2. Which race/sex combination worked the least amount of \n",
    "            cumulative hours?\n",
    "        3. What race/sex combination worked the most hours per week \n",
    "            per person?\n",
    "    Note: Hard coding is okay as long as there is code that makes sense for each problem.\n",
    "    \n",
    "    Returns:\n",
    "        ans_1 (tuple): tuple with race and sex code, respectively\n",
    "        ans_2 (tuple): tuple with race and sex code, respectively\n",
    "        ans_3 (tuple): tuple with race and sex code, respectively\n",
    "    \"\"\"\n",
    "    df = pd.read_csv('Ohio_1999.csv')\n",
    "\n",
    "    # create and display pivot tables\n",
    "    display(df.pivot_table(values=\"Usual Weekly Earnings\", index=\"Sex\", columns=\"Race\", aggfunc=\"sum\"))\n",
    "\n",
    "    display(df.pivot_table(values=\"Usual Hours Worked\", index=\"Sex\", columns=\"Race\", aggfunc=\"sum\"))\n",
    "\n",
    "    display(df.pivot_table(values=\"Usual Hours Worked\", index=\"Sex\", columns=\"Race\", aggfunc=\"mean\"))\n",
    "\n",
    "\n",
    "\n",
    "    # return hard-code\n",
    "    return((1,1),(3,2),(3,1))\n",
    "prob3()"
   ]
  },
  {
   "attachments": {},
   "cell_type": "markdown",
   "metadata": {
    "colab_type": "text",
    "id": "w0OmwW_VtsAp"
   },
   "source": [
    "# Problem 4"
   ]
  },
  {
   "cell_type": "code",
   "execution_count": 24,
   "metadata": {
    "colab": {},
    "colab_type": "code",
    "id": "in76s4x5iAX9"
   },
   "outputs": [
    {
     "data": {
      "text/plain": [
       "(Interval(38, 42, closed='right'),\n",
       " Interval(40.0, 46.0, closed='right'),\n",
       " (Interval(15.999, 29.0, closed='right'), Interval(0, 38, closed='right')))"
      ]
     },
     "execution_count": 24,
     "metadata": {},
     "output_type": "execute_result"
    }
   ],
   "source": [
    "def prob4():\n",
    "    \"\"\"\n",
    "    Use Ohio_1999.csv to answer the following questions:\n",
    "        1. What is the most common degree among workers?\n",
    "        2. Which age group works the most hours on average?\n",
    "        3. What age/degree combination has the smallest yearly\n",
    "           salary on average?\n",
    "    \n",
    "    Return:\n",
    "        ans_1 (Interval): degree interval\n",
    "        ans_2 (Interval): age interval\n",
    "        ans_3 (Interval, Interval): age interval and degree interval\n",
    "    \"\"\"\n",
    "    # read in data\n",
    "    df = pd.read_csv('Ohio_1999.csv')\n",
    "\n",
    "    # create degree cut, check for education attainment\n",
    "    degree = pd.cut(df[\"Educational Attainment\"],[0,38,42,46])\n",
    "    degree_interval = df.groupby(degree)['Educational Attainment'].count().idxmax()\n",
    "\n",
    "    # create age cut, check for hours worked mean\n",
    "    age_cut = pd.qcut(df[\"Age\"],6)\n",
    "    age_interval = df.groupby(age_cut)['Usual Hours Worked'].mean().idxmax()\n",
    "\n",
    "    # create pivot table\n",
    "    age_and_education = df.pivot_table(values = 'Yearly Salary', index = age_cut, columns = degree, aggfunc='mean')\n",
    "    shape = age_and_education.values.shape\n",
    "    # unravel tuple for argmin answers\n",
    "    age_and_education_indeces = np.unravel_index(age_and_education.values.argmin(), shape)\n",
    "    age_and_education_interval = (age_and_education.index[age_and_education_indeces[0]], age_and_education.columns[age_and_education_indeces[1]])\n",
    "\n",
    "    # Return the intervals\n",
    "    return degree_interval, age_interval, age_and_education_interval\n",
    "\n",
    "prob4()"
   ]
  },
  {
   "attachments": {},
   "cell_type": "markdown",
   "metadata": {
    "colab_type": "text",
    "id": "p_583lcgtuQv"
   },
   "source": [
    "# Problem 5"
   ]
  },
  {
   "cell_type": "code",
   "execution_count": 26,
   "metadata": {
    "colab": {},
    "colab_type": "code",
    "id": "I8vUMUB4fjHR"
   },
   "outputs": [
    {
     "data": {
      "text/html": [
       "<div>\n",
       "<style scoped>\n",
       "    .dataframe tbody tr th:only-of-type {\n",
       "        vertical-align: middle;\n",
       "    }\n",
       "\n",
       "    .dataframe tbody tr th {\n",
       "        vertical-align: top;\n",
       "    }\n",
       "\n",
       "    .dataframe thead th {\n",
       "        text-align: right;\n",
       "    }\n",
       "</style>\n",
       "<table border=\"1\" class=\"dataframe\">\n",
       "  <thead>\n",
       "    <tr style=\"text-align: right;\">\n",
       "      <th>Private</th>\n",
       "      <th>No</th>\n",
       "      <th>Yes</th>\n",
       "    </tr>\n",
       "    <tr>\n",
       "      <th>perc.alumni</th>\n",
       "      <th></th>\n",
       "      <th></th>\n",
       "    </tr>\n",
       "  </thead>\n",
       "  <tbody>\n",
       "    <tr>\n",
       "      <th>(0, 20]</th>\n",
       "      <td>170</td>\n",
       "      <td>209</td>\n",
       "    </tr>\n",
       "    <tr>\n",
       "      <th>(20, 40]</th>\n",
       "      <td>39</td>\n",
       "      <td>287</td>\n",
       "    </tr>\n",
       "    <tr>\n",
       "      <th>(40, 60]</th>\n",
       "      <td>1</td>\n",
       "      <td>67</td>\n",
       "    </tr>\n",
       "    <tr>\n",
       "      <th>(60, 80]</th>\n",
       "      <td>0</td>\n",
       "      <td>2</td>\n",
       "    </tr>\n",
       "    <tr>\n",
       "      <th>(80, 100]</th>\n",
       "      <td>0</td>\n",
       "      <td>0</td>\n",
       "    </tr>\n",
       "  </tbody>\n",
       "</table>\n",
       "</div>"
      ],
      "text/plain": [
       "Private       No  Yes\n",
       "perc.alumni          \n",
       "(0, 20]      170  209\n",
       "(20, 40]      39  287\n",
       "(40, 60]       1   67\n",
       "(60, 80]       0    2\n",
       "(80, 100]      0    0"
      ]
     },
     "metadata": {},
     "output_type": "display_data"
    },
    {
     "data": {
      "text/html": [
       "<div>\n",
       "<style scoped>\n",
       "    .dataframe tbody tr th:only-of-type {\n",
       "        vertical-align: middle;\n",
       "    }\n",
       "\n",
       "    .dataframe tbody tr th {\n",
       "        vertical-align: top;\n",
       "    }\n",
       "\n",
       "    .dataframe thead th {\n",
       "        text-align: right;\n",
       "    }\n",
       "</style>\n",
       "<table border=\"1\" class=\"dataframe\">\n",
       "  <thead>\n",
       "    <tr style=\"text-align: right;\">\n",
       "      <th>Private</th>\n",
       "      <th>No</th>\n",
       "      <th>Yes</th>\n",
       "    </tr>\n",
       "    <tr>\n",
       "      <th>Grad.Rate</th>\n",
       "      <th></th>\n",
       "      <th></th>\n",
       "    </tr>\n",
       "  </thead>\n",
       "  <tbody>\n",
       "    <tr>\n",
       "      <th>(0, 20]</th>\n",
       "      <td>1</td>\n",
       "      <td>3</td>\n",
       "    </tr>\n",
       "    <tr>\n",
       "      <th>(20, 40]</th>\n",
       "      <td>28</td>\n",
       "      <td>25</td>\n",
       "    </tr>\n",
       "    <tr>\n",
       "      <th>(40, 60]</th>\n",
       "      <td>107</td>\n",
       "      <td>139</td>\n",
       "    </tr>\n",
       "    <tr>\n",
       "      <th>(60, 80]</th>\n",
       "      <td>64</td>\n",
       "      <td>252</td>\n",
       "    </tr>\n",
       "    <tr>\n",
       "      <th>(80, 100]</th>\n",
       "      <td>12</td>\n",
       "      <td>145</td>\n",
       "    </tr>\n",
       "  </tbody>\n",
       "</table>\n",
       "</div>"
      ],
      "text/plain": [
       "Private     No  Yes\n",
       "Grad.Rate          \n",
       "(0, 20]      1    3\n",
       "(20, 40]    28   25\n",
       "(40, 60]   107  139\n",
       "(60, 80]    64  252\n",
       "(80, 100]   12  145"
      ]
     },
     "metadata": {},
     "output_type": "display_data"
    },
    {
     "data": {
      "text/html": [
       "<div>\n",
       "<style scoped>\n",
       "    .dataframe tbody tr th:only-of-type {\n",
       "        vertical-align: middle;\n",
       "    }\n",
       "\n",
       "    .dataframe tbody tr th {\n",
       "        vertical-align: top;\n",
       "    }\n",
       "\n",
       "    .dataframe thead th {\n",
       "        text-align: right;\n",
       "    }\n",
       "</style>\n",
       "<table border=\"1\" class=\"dataframe\">\n",
       "  <thead>\n",
       "    <tr style=\"text-align: right;\">\n",
       "      <th>Private</th>\n",
       "      <th>No</th>\n",
       "      <th>Yes</th>\n",
       "    </tr>\n",
       "    <tr>\n",
       "      <th>Acceptance Rate</th>\n",
       "      <th></th>\n",
       "      <th></th>\n",
       "    </tr>\n",
       "  </thead>\n",
       "  <tbody>\n",
       "    <tr>\n",
       "      <th>(0, 25]</th>\n",
       "      <td>NaN</td>\n",
       "      <td>83.0</td>\n",
       "    </tr>\n",
       "    <tr>\n",
       "      <th>(25, 50]</th>\n",
       "      <td>6.0</td>\n",
       "      <td>3.0</td>\n",
       "    </tr>\n",
       "    <tr>\n",
       "      <th>(50, 75]</th>\n",
       "      <td>1.0</td>\n",
       "      <td>1.0</td>\n",
       "    </tr>\n",
       "    <tr>\n",
       "      <th>(75, 100]</th>\n",
       "      <td>2.0</td>\n",
       "      <td>2.0</td>\n",
       "    </tr>\n",
       "  </tbody>\n",
       "</table>\n",
       "</div>"
      ],
      "text/plain": [
       "Private           No   Yes\n",
       "Acceptance Rate           \n",
       "(0, 25]          NaN  83.0\n",
       "(25, 50]         6.0   3.0\n",
       "(50, 75]         1.0   1.0\n",
       "(75, 100]        2.0   2.0"
      ]
     },
     "metadata": {},
     "output_type": "display_data"
    },
    {
     "data": {
      "text/html": [
       "<div>\n",
       "<style scoped>\n",
       "    .dataframe tbody tr th:only-of-type {\n",
       "        vertical-align: middle;\n",
       "    }\n",
       "\n",
       "    .dataframe tbody tr th {\n",
       "        vertical-align: top;\n",
       "    }\n",
       "\n",
       "    .dataframe thead th {\n",
       "        text-align: right;\n",
       "    }\n",
       "</style>\n",
       "<table border=\"1\" class=\"dataframe\">\n",
       "  <thead>\n",
       "    <tr style=\"text-align: right;\">\n",
       "      <th>Private</th>\n",
       "      <th>No</th>\n",
       "      <th>Yes</th>\n",
       "    </tr>\n",
       "    <tr>\n",
       "      <th>Acceptance Rate</th>\n",
       "      <th></th>\n",
       "      <th></th>\n",
       "    </tr>\n",
       "  </thead>\n",
       "  <tbody>\n",
       "    <tr>\n",
       "      <th>(0, 25]</th>\n",
       "      <td>NaN</td>\n",
       "      <td>89.500000</td>\n",
       "    </tr>\n",
       "    <tr>\n",
       "      <th>(25, 50]</th>\n",
       "      <td>35.947368</td>\n",
       "      <td>64.514286</td>\n",
       "    </tr>\n",
       "    <tr>\n",
       "      <th>(50, 75]</th>\n",
       "      <td>24.478723</td>\n",
       "      <td>30.530726</td>\n",
       "    </tr>\n",
       "    <tr>\n",
       "      <th>(75, 100]</th>\n",
       "      <td>18.757576</td>\n",
       "      <td>24.469741</td>\n",
       "    </tr>\n",
       "  </tbody>\n",
       "</table>\n",
       "</div>"
      ],
      "text/plain": [
       "Private                 No        Yes\n",
       "Acceptance Rate                      \n",
       "(0, 25]                NaN  89.500000\n",
       "(25, 50]         35.947368  64.514286\n",
       "(50, 75]         24.478723  30.530726\n",
       "(75, 100]        18.757576  24.469741"
      ]
     },
     "metadata": {},
     "output_type": "display_data"
    },
    {
     "data": {
      "text/plain": [
       "(True, False, True, 'No way to compare with public schools')"
      ]
     },
     "execution_count": 26,
     "metadata": {},
     "output_type": "execute_result"
    }
   ],
   "source": [
    "def prob5():\n",
    "   \"\"\"\n",
    "    Use College.csv to answer the following questions:\n",
    "        1. Is there a partition in which the number of both \n",
    "           private and public universities does not increase \n",
    "           as the percentage of alumni that donates increases?\n",
    "        2. Is the partition with the greatest number of schools \n",
    "           the same for private and public universities?\n",
    "        3. Is it true that the partition that has the least \n",
    "           number of students from the top 10 percent of their \n",
    "           high school class that were admitted on average is \n",
    "           the same for both private and public universities?\n",
    "        4. The average percentage of students admitted from the \n",
    "           top 10 percent of their high school class is very high\n",
    "           in private universities with very low acceptance rates. \n",
    "           Why is this not a good conclusion to draw solely from \n",
    "           this dataset? Use only the data to explain why; do not \n",
    "           extrapolate.\n",
    "\n",
    "    Returns:\n",
    "        ans_1 (bool): answer to question 1\n",
    "        ans_2 (bool): answer to question 2\n",
    "        ans_3 (bool): answer to question 3\n",
    "        ans_4 (str): answer to question 4\n",
    "   \"\"\"\n",
    "   # read in data\n",
    "   df = pd.read_csv('college.csv')\n",
    "\n",
    "   # pt 1\n",
    "   # create cut\n",
    "   alum_cut = pd.cut(df['perc.alumni'], [0,20,40,60,80,100])\n",
    "   display(df.pivot_table(values = 'perc.alumni',\n",
    "                          index = alum_cut, \n",
    "                          columns = 'Private',\n",
    "                          aggfunc='count'))\n",
    "   \n",
    "\n",
    "   # pt 2\n",
    "   # create cut\n",
    "   grad_cut = pd.cut(df['Grad.Rate'], [0,20,40,60,80,100])\n",
    "   display(df.pivot_table(values = 'Grad.Rate', \n",
    "                          index = grad_cut, \n",
    "                          columns = 'Private', \n",
    "                          aggfunc='count'))\n",
    "   \n",
    "\n",
    "   # pt 3\n",
    "   # make acc_rate col to cut from\n",
    "   acc_rate = (df['Accept'] / df['Apps'])\n",
    "   df['Acceptance Rate'] = acc_rate * 100\n",
    "\n",
    "   # create cut\n",
    "   accept_cut = pd.cut(df['Acceptance Rate'], [0,25,50,75,100])\n",
    "   display(df.pivot_table(values = 'Top10perc', \n",
    "                  index = accept_cut, \n",
    "                  columns = 'Private', \n",
    "                  aggfunc='min'))\n",
    "   \n",
    "   # pt 4\n",
    "   display(df.pivot_table(values = 'Top10perc', \n",
    "                  index = accept_cut,\n",
    "                  columns = 'Private',\n",
    "                  aggfunc='mean'))\n",
    "\n",
    "   # return hard-code\n",
    "   return (True, False, True, \"No way to compare with public schools\")\n",
    "    \n",
    "\n",
    "prob5()"
   ]
  },
  {
   "cell_type": "code",
   "execution_count": null,
   "metadata": {},
   "outputs": [],
   "source": []
  }
 ],
 "metadata": {
  "colab": {
   "collapsed_sections": [],
   "name": "pandas3.ipynb",
   "provenance": [],
   "version": "0.3.2"
  },
  "kernelspec": {
   "display_name": "Python 3 (ipykernel)",
   "language": "python",
   "name": "python3"
  },
  "language_info": {
   "codemirror_mode": {
    "name": "ipython",
    "version": 3
   },
   "file_extension": ".py",
   "mimetype": "text/x-python",
   "name": "python",
   "nbconvert_exporter": "python",
   "pygments_lexer": "ipython3",
   "version": "3.9.12"
  }
 },
 "nbformat": 4,
 "nbformat_minor": 1
}
