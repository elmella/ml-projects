{
 "cells": [
  {
   "cell_type": "code",
   "execution_count": 128,
   "metadata": {},
   "outputs": [],
   "source": [
    "# solutions.py\n",
    "\n",
    "import pyspark\n",
    "from pyspark.sql import SparkSession\n",
    "import numpy as np\n",
    "import numpy.linalg as la\n",
    "import matplotlib.pyplot as plt\n",
    "from matplotlib.ticker import FuncFormatter\n",
    "from pyspark.ml import Pipeline\n",
    "from pyspark.ml.feature import VectorAssembler, StringIndexer, OneHotEncoder\n",
    "from pyspark.ml.tuning import ParamGridBuilder, TrainValidationSplit\n",
    "from pyspark.ml.classification import RandomForestClassifier\n",
    "from pyspark.ml.evaluation import MulticlassClassificationEvaluator as MCE\n",
    "from collections import Counter\n"
   ]
  },
  {
   "cell_type": "code",
   "execution_count": 18,
   "metadata": {},
   "outputs": [
    {
     "data": {
      "text/plain": [
       "'openjdk version \"1.8.0_402\"\\nOpenJDK Runtime Environment (Zulu 8.76.0.17-CA-macos-aarch64) (build 1.8.0_402-b06)\\nOpenJDK 64-Bit Server VM (Zulu 8.76.0.17-CA-macos-aarch64) (build 25.402-b06, mixed mode)\\n'"
      ]
     },
     "execution_count": 18,
     "metadata": {},
     "output_type": "execute_result"
    }
   ],
   "source": [
    "import subprocess\n",
    "\n",
    "# Command to check Java version\n",
    "java_version_cmd = \"java -version\"\n",
    "\n",
    "# Execute the command and capture the output\n",
    "process = subprocess.Popen(java_version_cmd, shell=True, stderr=subprocess.PIPE)\n",
    "stderr = process.communicate()[1]\n",
    "\n",
    "# Decode and print the output\n",
    "java_version_output = stderr.decode(\"utf-8\")\n",
    "java_version_output\n"
   ]
  },
  {
   "cell_type": "code",
   "execution_count": 19,
   "metadata": {},
   "outputs": [
    {
     "name": "stdout",
     "output_type": "stream",
     "text": [
      "['1,1,\"Allen, Miss. Elisabeth Walton\",female,29.0,0,0,211.3375', '1,1,\"Allison, Master. Hudson Trevor\",male,0.9167,1,2,151.55']\n"
     ]
    }
   ],
   "source": [
    "spark = SparkSession\\\n",
    "         .builder\\\n",
    "         .appName(\"app_name\")\\\n",
    "         .getOrCreate()\n",
    "\n",
    "titanic = spark.sparkContext.textFile(\"titanic.csv\")\n",
    "\n",
    "print(titanic.take(2))\n",
    "spark.stop()"
   ]
  },
  {
   "cell_type": "code",
   "execution_count": 20,
   "metadata": {},
   "outputs": [],
   "source": [
    "def word_count(filename='huck_finn.txt'):\n",
    "    \"\"\"\n",
    "    A function that counts the number of occurrences unique occurrences of each\n",
    "    word. Sorts the words by count in descending order.\n",
    "    Parameters:\n",
    "        filename (str): filename or path to a text file\n",
    "    Returns:\n",
    "        word_counts (list): list of (word, count) pairs for the 20 most used words\n",
    "    \"\"\" \n",
    "    spark = SparkSession\\\n",
    "        .builder\\\n",
    "        .appName(\"Word Count\")\\\n",
    "        .getOrCreate()\n",
    "    rdd = spark.sparkContext.textFile(filename)\n",
    "    word_counts = rdd.flatMap(lambda line: line.split()) \\\n",
    "        .map(lambda word: (word, 1)) \\\n",
    "        .reduceByKey(lambda a, b: a + b) \\\n",
    "        .sortBy(lambda x: x[1], ascending=False) \\\n",
    "        .take(20)\n",
    "    spark.stop()\n",
    "    return word_counts\n"
   ]
  },
  {
   "cell_type": "code",
   "execution_count": 11,
   "metadata": {},
   "outputs": [
    {
     "name": "stderr",
     "output_type": "stream",
     "text": [
      "                                                                                \r"
     ]
    },
    {
     "data": {
      "text/plain": [
       "[('and', 6049),\n",
       " ('the', 4706),\n",
       " ('I', 3045),\n",
       " ('a', 2936),\n",
       " ('to', 2903),\n",
       " ('was', 1942),\n",
       " ('of', 1732),\n",
       " ('it', 1428),\n",
       " ('he', 1373),\n",
       " ('in', 1368),\n",
       " ('you', 1022),\n",
       " ('that', 892),\n",
       " ('for', 828),\n",
       " ('on', 772),\n",
       " ('all', 742),\n",
       " ('but', 738),\n",
       " ('up', 701),\n",
       " ('we', 673),\n",
       " ('out', 649),\n",
       " ('so', 625)]"
      ]
     },
     "execution_count": 11,
     "metadata": {},
     "output_type": "execute_result"
    }
   ],
   "source": [
    "word_count()"
   ]
  },
  {
   "cell_type": "code",
   "execution_count": 21,
   "metadata": {},
   "outputs": [],
   "source": [
    "### Problem 2\n",
    "def monte_carlo(n=10**5, parts=6):\n",
    "    \"\"\"\n",
    "    Runs a Monte Carlo simulation to estimate the value of pi.\n",
    "    Parameters:\n",
    "        n (int): number of sample points per partition\n",
    "        parts (int): number of partitions\n",
    "    Returns:\n",
    "        pi_est (float): estimated value of pi\n",
    "    \"\"\"\n",
    "    spark = SparkSession\\\n",
    "        .builder\\\n",
    "        .appName(\"Monte Carlo\")\\\n",
    "        .getOrCreate()\n",
    "    rdd = spark.sparkContext.parallelize(range(parts)) \\\n",
    "        .map(lambda x: np.random.rand(n, 2)) \\\n",
    "        .map(lambda x: np.sum(np.sum(x**2, axis=1) < 1)) \\\n",
    "        .reduce(lambda a, b: a + b)\n",
    "    pi_est = 4 * rdd / (n * parts)\n",
    "    spark.stop()\n",
    "    return pi_est"
   ]
  },
  {
   "cell_type": "code",
   "execution_count": 22,
   "metadata": {},
   "outputs": [
    {
     "data": {
      "text/plain": [
       "3.13584"
      ]
     },
     "execution_count": 22,
     "metadata": {},
     "output_type": "execute_result"
    }
   ],
   "source": [
    "monte_carlo()"
   ]
  },
  {
   "cell_type": "code",
   "execution_count": 90,
   "metadata": {},
   "outputs": [],
   "source": [
    "def titanic_df(filename='titanic.csv'):\n",
    "    \"\"\"\n",
    "    Calculates some statistics from the titanic data.\n",
    "    \n",
    "    Returns: the number of women on-board, the number of men on-board,\n",
    "             the survival rate of women, \n",
    "             and the survival rate of men in that order.\n",
    "    \"\"\"\n",
    "    # create SparkSession\n",
    "    spark = SparkSession\\\n",
    "        .builder\\\n",
    "        .appName(\"Titanic Df\")\\\n",
    "        .getOrCreate()\n",
    "    \n",
    "    # create schema\n",
    "    schema = ('survived INT, pclass INT, name STRING, sex STRING, '\n",
    "            'age FLOAT, sibsp INT, parch INT, fare FLOAT'\n",
    "            )\n",
    "\n",
    "    # read csv file\n",
    "    titanic = spark.read.csv(filename,schema=schema)\n",
    "    \n",
    "    # create temporary view\n",
    "    titanic.createOrReplaceTempView(\"titanic\")\n",
    "\n",
    "    # calculate statistics\n",
    "    total_count = spark.sql(\n",
    "        \"SELECT sex, COUNT(*) AS count\\\n",
    "        FROM titanic\\\n",
    "        GROUP BY sex\"\n",
    "    ).collect()\n",
    "\n",
    "    survival_rate = spark.sql(\n",
    "        \"SELECT sex, AVG(survived) as survival_rate\\\n",
    "        FROM titanic\\\n",
    "        GROUP BY sex\"\n",
    "    ).collect()\n",
    "\n",
    "    # stop SparkSession\n",
    "    spark.stop()\n",
    "\n",
    "    # return statistics\n",
    "    return (total_count[0][1], total_count[1][1], survival_rate[0][1], survival_rate[1][1])\n"
   ]
  },
  {
   "cell_type": "code",
   "execution_count": 91,
   "metadata": {},
   "outputs": [
    {
     "name": "stdout",
     "output_type": "stream",
     "text": [
      "[Row(sex='female', count=388), Row(sex='male', count=657)] [Row(sex='female', survival_rate=0.7525773195876289), Row(sex='male', survival_rate=0.2054794520547945)]\n"
     ]
    },
    {
     "data": {
      "text/plain": [
       "(388, 657, 0.7525773195876289, 0.2054794520547945)"
      ]
     },
     "execution_count": 91,
     "metadata": {},
     "output_type": "execute_result"
    }
   ],
   "source": [
    "titanic_df()"
   ]
  },
  {
   "cell_type": "code",
   "execution_count": 126,
   "metadata": {},
   "outputs": [],
   "source": [
    "def crime_and_income(crimefile='london_crime_by_lsoa.csv',\n",
    "                     incomefile='london_income_by_borough.csv', major_cat='Robbery'):\n",
    "    \"\"\"\n",
    "    Explores crime by borough and income for the specified major_cat\n",
    "    Parameters:\n",
    "        crimefile (str): path to csv file containing crime dataset\n",
    "        incomefile (str): path to csv file containing income dataset\n",
    "        major_cat (str): major or general crime category to analyze\n",
    "    returns:\n",
    "        (ndarray): borough names sorted by percent months with crime, descending\n",
    "    \"\"\"\n",
    "    # Create SparkSession\n",
    "    spark = SparkSession.builder.appName(\"Crime and Income Analysis\").getOrCreate()\n",
    "    \n",
    "    # Load Data\n",
    "    crime_data = spark.read.csv(crimefile, header=True, inferSchema=True)\n",
    "    income_data = spark.read.csv(incomefile, header=True, inferSchema=True)\n",
    "\n",
    "    # Create temporary views\n",
    "    crime_data.createOrReplaceTempView(\"crime\")\n",
    "    income_data.createOrReplaceTempView(\"income\")\n",
    "\n",
    "    # Create joined table\n",
    "    df = spark.sql(\n",
    "        f\"SELECT crime.borough, `income`.`median-08-16`, SUM(crime.value) AS major_cat_total_crime\\\n",
    "        FROM crime\\\n",
    "        JOIN income\\\n",
    "        ON crime.borough = income.borough\\\n",
    "        WHERE major_category = '{major_cat}'\\\n",
    "        GROUP BY crime.borough, `income`.`median-08-16`\\\n",
    "        ORDER BY major_cat_total_crime DESC\"\n",
    "    )\n",
    "\n",
    "    numpy_array = np.array(df.collect())\n",
    "\n",
    "    print(numpy_array)\n",
    "\n",
    "    # Stop SparkSession\n",
    "    spark.stop()\n",
    "# Function to format tick labels\n",
    "    def custom_formatter(x, pos):\n",
    "        return f'{x/10**3:.0f}K' if x >= 1000 else f'{x:.0f}'\n",
    "\n",
    "    formatter = FuncFormatter(custom_formatter)\n",
    "\n",
    "    # Create scatter plot of data, rounded to the hundreds\n",
    "    plt.scatter(numpy_array[:, 1], numpy_array[:, 2])\n",
    "    plt.xlabel('Median Income')\n",
    "    plt.ylabel('Total Crime')\n",
    "    plt.title('Total Crime vs Median Income')\n",
    "\n",
    "    # Set custom formatters for axes\n",
    "    plt.gca().xaxis.set_major_formatter(formatter)\n",
    "    plt.gca().yaxis.set_major_formatter(formatter)\n",
    "\n",
    "    plt.show()\n",
    "\n",
    "    # return array\n",
    "    return numpy_array[:, 0]\n"
   ]
  },
  {
   "cell_type": "code",
   "execution_count": 129,
   "metadata": {},
   "outputs": [
    {
     "name": "stderr",
     "output_type": "stream",
     "text": [
      "                                                                                \r"
     ]
    },
    {
     "name": "stdout",
     "output_type": "stream",
     "text": [
      "[['Lambeth' '25412.5' '18408']\n",
      " ['Newham' '18750.0' '16913']\n",
      " ['Southwark' '24912.5' '16153']\n",
      " ['Westminster' '33675.0' '15752']\n",
      " ['Croydon' '23537.5' '12645']\n",
      " ['Brent' '20700.0' '12473']\n",
      " ['Waltham Forest' '21087.5' '10606']\n",
      " ['Lewisham' '23387.5' '10455']\n",
      " ['Haringey' '23050.0' '10084']\n",
      " ['Tower Hamlets' '25337.5' '10050']\n",
      " ['Ealing' '22437.5' '9568']\n",
      " ['Camden' '30775.0' '9286']\n",
      " ['Enfield' '22775.0' '9059']\n",
      " ['Hackney' '24100.0' '8975']\n",
      " ['Islington' '28125.0' '8736']\n",
      " ['Wandsworth' '30462.5' '8398']\n",
      " ['Redbridge' '23750.0' '7688']\n",
      " ['Barnet' '25250.0' '7374']\n",
      " ['Barking and Dagenham' '20250.0' '6105']\n",
      " ['Hillingdon' '23525.0' '5663']\n",
      " ['Greenwich' '22662.5' '5430']\n",
      " ['Hammersmith and Fulham' '28100.0' '5279']\n",
      " ['Bromley' '26375.0' '4868']\n",
      " ['Hounslow' '22700.0' '4847']\n",
      " ['Kensington and Chelsea' '35812.5' '4744']\n",
      " ['Harrow' '23975.0' '4242']\n",
      " ['Merton' '25750.0' '4021']\n",
      " ['Havering' '23387.5' '3089']\n",
      " ['Bexley' '22900.0' '2338']\n",
      " ['Sutton' '24587.5' '2308']\n",
      " ['Kingston upon Thames' '26700.0' '1702']\n",
      " ['Richmond upon Thames' '32550.0' '1590']\n",
      " ['City of London' '59750.0' '24']]\n"
     ]
    },
    {
     "data": {
      "image/png": "[encoded data removed]",
      "text/plain": [
       "<Figure size 640x480 with 1 Axes>"
      ]
     },
     "metadata": {},
     "output_type": "display_data"
    },
    {
     "data": {
      "text/plain": [
       "array(['Lambeth', 'Newham', 'Southwark', 'Westminster', 'Croydon',\n",
       "       'Brent', 'Waltham Forest', 'Lewisham', 'Haringey', 'Tower Hamlets',\n",
       "       'Ealing', 'Camden', 'Enfield', 'Hackney', 'Islington',\n",
       "       'Wandsworth', 'Redbridge', 'Barnet', 'Barking and Dagenham',\n",
       "       'Hillingdon', 'Greenwich', 'Hammersmith and Fulham', 'Bromley',\n",
       "       'Hounslow', 'Kensington and Chelsea', 'Harrow', 'Merton',\n",
       "       'Havering', 'Bexley', 'Sutton', 'Kingston upon Thames',\n",
       "       'Richmond upon Thames', 'City of London'], dtype='<U32')"
      ]
     },
     "execution_count": 129,
     "metadata": {},
     "output_type": "execute_result"
    }
   ],
   "source": [
    "crime_and_income()"
   ]
  },
  {
   "cell_type": "code",
   "execution_count": 140,
   "metadata": {},
   "outputs": [],
   "source": [
    "def titanic_classifier(filename='titanic.csv'):\n",
    "    \"\"\"\n",
    "    Implements a classifier model to predict who survived the Titanic.\n",
    "    Parameters:\n",
    "        filename (str): path to the dataset\n",
    "    Returns:\n",
    "        metrics (tuple): a tuple of metrics gauging the performance of the model\n",
    "            ('accuracy', 'weightedRecall', 'weightedPrecision')\n",
    "    \"\"\"\n",
    "\n",
    "    # create SparkSession\n",
    "    spark = SparkSession\\\n",
    "        .builder\\\n",
    "        .appName(\"Titanic Classifier\")\\\n",
    "        .getOrCreate()\n",
    "    \n",
    "    # create schema\n",
    "    schema = ('survived INT, pclass INT, name STRING, sex STRING, '\n",
    "            'age FLOAT, sibsp INT, parch INT, fare FLOAT'\n",
    "            )\n",
    "\n",
    "    # read csv file\n",
    "    titanic = spark.read.csv(filename,schema=schema)\n",
    "\n",
    "    # convert the 'sex' column to a numeric column\n",
    "    sex_binary = StringIndexer(inputCol='sex', outputCol='sex_binary')\n",
    "\n",
    "    onehot = OneHotEncoder(inputCols=['pclass'], outputCols=['pclass_onehot'])\n",
    "\n",
    "    # create a feature vector\n",
    "    features = ['sex_binary', 'pclass_onehot', 'age', 'sibsp', 'parch', 'fare']\n",
    "    feature_vector = VectorAssembler(inputCols=features, outputCol='features')\n",
    "\n",
    "    # create a pipeline\n",
    "    pipeline = Pipeline(stages=[sex_binary, onehot, feature_vector])\n",
    "    titanic = pipeline.fit(titanic).transform(titanic)\n",
    "\n",
    "    # split the data into training and test sets\n",
    "    train, test = titanic.randomSplit([0.75, 0.25], seed=11)\n",
    "\n",
    "    # create a random forest classifier\n",
    "    rf = RandomForestClassifier(featuresCol='features', labelCol='survived', seed=42)\n",
    "\n",
    "    # create a parameter grid\n",
    "    paramGrid = ParamGridBuilder().addGrid(rf.numTrees, [10, 100]).build()\n",
    "\n",
    "    # create an evaluator\n",
    "    evaluator = MCE(labelCol='survived', metricName='accuracy')\n",
    "\n",
    "    # create a cross validator\n",
    "    tvs = TrainValidationSplit(estimator=rf,\n",
    "                                 estimatorParamMaps=paramGrid,\n",
    "                                 evaluator=evaluator,\n",
    "                                 trainRatio=0.8,\n",
    "                                 seed=42)\n",
    "    \n",
    "    # fit the model\n",
    "    clf = tvs.fit(train)\n",
    "\n",
    "    # make predictions\n",
    "    predictions = clf.transform(test)\n",
    "\n",
    "    # calculate metrics\n",
    "    metrics = (evaluator.evaluate(predictions),\n",
    "                MCE(labelCol='survived', metricName='weightedRecall').evaluate(predictions),\n",
    "                MCE(labelCol='survived', metricName='weightedPrecision').evaluate(predictions))\n",
    "    \n",
    "\n",
    "    # stop SparkSession\n",
    "    spark.stop()\n",
    "\n",
    "    # return metrics\n",
    "    return metrics"
   ]
  },
  {
   "cell_type": "code",
   "execution_count": 139,
   "metadata": {},
   "outputs": [
    {
     "data": {
      "text/plain": [
       "(0.7723214285714286, 0.7723214285714286, 0.7713789969429068)"
      ]
     },
     "execution_count": 139,
     "metadata": {},
     "output_type": "execute_result"
    }
   ],
   "source": [
    "titanic_classifier()"
   ]
  }
 ],
 "metadata": {
  "kernelspec": {
   "display_name": "Python 3",
   "language": "python",
   "name": "python3"
  },
  "language_info": {
   "codemirror_mode": {
    "name": "ipython",
    "version": 3
   },
   "file_extension": ".py",
   "mimetype": "text/x-python",
   "name": "python",
   "nbconvert_exporter": "python",
   "pygments_lexer": "ipython3",
   "version": "3.11.7"
  }
 },
 "nbformat": 4,
 "nbformat_minor": 2
}
